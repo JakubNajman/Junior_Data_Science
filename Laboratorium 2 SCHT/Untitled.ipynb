{
 "cells": [
  {
   "cell_type": "code",
   "execution_count": 104,
   "metadata": {},
   "outputs": [],
   "source": [
    "import math\n",
    "import random as rd"
   ]
  },
  {
   "cell_type": "code",
   "execution_count": 100,
   "metadata": {},
   "outputs": [
    {
     "data": {
      "text/plain": [
       "0.6"
      ]
     },
     "execution_count": 100,
     "metadata": {},
     "output_type": "execute_result"
    }
   ],
   "source": [
    "# Korzystając z danych podanych dla grupy 7.\n",
    "lam = 0.6\n",
    "lam"
   ]
  },
  {
   "cell_type": "code",
   "execution_count": 105,
   "metadata": {},
   "outputs": [
    {
     "name": "stdout",
     "output_type": "stream",
     "text": [
      "1.5962844083068761\n"
     ]
    }
   ],
   "source": [
    "# Losujemy dowolną liczbę z przedziału [0,1].\n",
    "u = rd.random()\n",
    "# Korzystając ze wzoru wyprowadzenego w sprawozdaniu.\n",
    "t=((-1)/lam) * math.log(1-u)\n",
    "print(t)"
   ]
  },
  {
   "cell_type": "code",
   "execution_count": 102,
   "metadata": {},
   "outputs": [
    {
     "name": "stdout",
     "output_type": "stream",
     "text": [
      "0.6261800849362349\n",
      "0.0\n"
     ]
    }
   ],
   "source": [
    "# Korzystając z dystrybuanty rozkładu normalnego obliczamy prawdopodobieństwo, że awaria nie wystąpi.\n",
    "# Dla t wylosowanego.\n",
    "p1=1-(1-math.exp(-lam*t))\n",
    "# Dla t pod warunkiem, że nie wystąpiło przez ostatnie 10 minut.\n",
    "p2=1-(1-math.exp(-lam*(t+600)))\n",
    "\n",
    "print(p1)\n",
    "print(p2)"
   ]
  }
 ],
 "metadata": {
  "kernelspec": {
   "display_name": "Python 3",
   "language": "python",
   "name": "python3"
  },
  "language_info": {
   "codemirror_mode": {
    "name": "ipython",
    "version": 3
   },
   "file_extension": ".py",
   "mimetype": "text/x-python",
   "name": "python",
   "nbconvert_exporter": "python",
   "pygments_lexer": "ipython3",
   "version": "3.8.3"
  }
 },
 "nbformat": 4,
 "nbformat_minor": 4
}
